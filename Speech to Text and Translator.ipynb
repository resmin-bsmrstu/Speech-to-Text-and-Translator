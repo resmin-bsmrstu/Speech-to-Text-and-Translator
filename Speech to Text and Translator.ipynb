{
 "cells": [
  {
   "cell_type": "code",
   "execution_count": 1,
   "metadata": {},
   "outputs": [
    {
     "name": "stdout",
     "output_type": "stream",
     "text": [
      "Collecting PyJWT==1.7.1"
     ]
    },
    {
     "name": "stderr",
     "output_type": "stream",
     "text": [
      "ERROR: ibm-cloud-sdk-core 3.9.0 has requirement PyJWT<3.0.0,>=2.0.1, but you'll have pyjwt 1.7.1 which is incompatible.\n"
     ]
    },
    {
     "name": "stdout",
     "output_type": "stream",
     "text": [
      "\n",
      "  Downloading PyJWT-1.7.1-py2.py3-none-any.whl (18 kB)\n",
      "Collecting ibm_watson\n",
      "  Downloading ibm-watson-5.1.0.tar.gz (382 kB)\n",
      "Collecting wget\n",
      "  Downloading wget-3.2.zip (10 kB)\n",
      "Requirement already satisfied: requests<3.0,>=2.0 in h:\\anaconda\\lib\\site-packages (from ibm_watson) (2.24.0)\n",
      "Requirement already satisfied: python_dateutil>=2.5.3 in h:\\anaconda\\lib\\site-packages (from ibm_watson) (2.8.1)\n",
      "Collecting websocket-client==0.48.0\n",
      "  Downloading websocket_client-0.48.0-py2.py3-none-any.whl (198 kB)\n",
      "Collecting ibm_cloud_sdk_core>=3.3.6\n",
      "  Downloading ibm-cloud-sdk-core-3.9.0.tar.gz (38 kB)\n",
      "Requirement already satisfied: certifi>=2017.4.17 in h:\\anaconda\\lib\\site-packages (from requests<3.0,>=2.0->ibm_watson) (2020.6.20)\n",
      "Requirement already satisfied: urllib3!=1.25.0,!=1.25.1,<1.26,>=1.21.1 in h:\\anaconda\\lib\\site-packages (from requests<3.0,>=2.0->ibm_watson) (1.25.9)\n",
      "Requirement already satisfied: chardet<4,>=3.0.2 in h:\\anaconda\\lib\\site-packages (from requests<3.0,>=2.0->ibm_watson) (3.0.4)\n",
      "Requirement already satisfied: idna<3,>=2.5 in h:\\anaconda\\lib\\site-packages (from requests<3.0,>=2.0->ibm_watson) (2.10)\n",
      "Requirement already satisfied: six>=1.5 in h:\\anaconda\\lib\\site-packages (from python_dateutil>=2.5.3->ibm_watson) (1.15.0)\n",
      "Building wheels for collected packages: ibm-watson, wget, ibm-cloud-sdk-core\n",
      "  Building wheel for ibm-watson (setup.py): started\n",
      "  Building wheel for ibm-watson (setup.py): finished with status 'done'\n",
      "  Created wheel for ibm-watson: filename=ibm_watson-5.1.0-py3-none-any.whl size=375447 sha256=fcc006951c27cf14345ca0f4319f6e285f5415b530c0d6962995a26fc7dd6c87\n",
      "  Stored in directory: c:\\users\\resmin hossain\\appdata\\local\\pip\\cache\\wheels\\e6\\e5\\cf\\9e0c46ec51165c2a61af7f2d4fdd91df9c96071bb51264c828\n",
      "  Building wheel for wget (setup.py): started\n",
      "  Building wheel for wget (setup.py): finished with status 'done'\n",
      "  Created wheel for wget: filename=wget-3.2-py3-none-any.whl size=9686 sha256=6aaf8b9ba1e8bbb1afc1a179adc3aaac694eac5493bb10041d7f8a45e13be543\n",
      "  Stored in directory: c:\\users\\resmin hossain\\appdata\\local\\pip\\cache\\wheels\\bd\\a8\\c3\\3cf2c14a1837a4e04bd98631724e81f33f462d86a1d895fae0\n",
      "  Building wheel for ibm-cloud-sdk-core (setup.py): started\n",
      "  Building wheel for ibm-cloud-sdk-core (setup.py): finished with status 'done'\n",
      "  Created wheel for ibm-cloud-sdk-core: filename=ibm_cloud_sdk_core-3.9.0-py3-none-any.whl size=59615 sha256=7d4f67d824c7c725d7139edfd2e3e8cde8dcf6e47d58fab1b3b82353a552076e\n",
      "  Stored in directory: c:\\users\\resmin hossain\\appdata\\local\\pip\\cache\\wheels\\f4\\58\\84\\3059fe7cfcadfa9c709fe5979a1cd6f79ff82e047c5f0d01bd\n",
      "Successfully built ibm-watson wget ibm-cloud-sdk-core\n",
      "Installing collected packages: PyJWT, websocket-client, ibm-cloud-sdk-core, ibm-watson, wget\n",
      "Successfully installed PyJWT-1.7.1 ibm-cloud-sdk-core-3.9.0 ibm-watson-5.1.0 websocket-client-0.48.0 wget-3.2\n"
     ]
    }
   ],
   "source": [
    "#Downloading necessary library\n",
    "!pip install PyJWT==1.7.1 ibm_watson wget"
   ]
  },
  {
   "cell_type": "markdown",
   "metadata": {},
   "source": [
    "First we import SpeechToTextV1 from ibm_watson"
   ]
  },
  {
   "cell_type": "code",
   "execution_count": 2,
   "metadata": {},
   "outputs": [],
   "source": [
    "from ibm_watson import SpeechToTextV1 \n",
    "import json\n",
    "from ibm_cloud_sdk_core.authenticators import IAMAuthenticator"
   ]
  },
  {
   "cell_type": "markdown",
   "metadata": {},
   "source": [
    "The service endpoint is based on the location of the service instance, we store the information in the variable URL."
   ]
  },
  {
   "cell_type": "code",
   "execution_count": 3,
   "metadata": {},
   "outputs": [],
   "source": [
    "url_s2t = \"https://api.us-south.speech-to-text.watson.cloud.ibm.com/instances/0dc9c366-169b-4012-b1a7-69a7043383cc\""
   ]
  },
  {
   "cell_type": "code",
   "execution_count": 4,
   "metadata": {},
   "outputs": [],
   "source": [
    "iam_apikey_s2t = \"S8a5PFVMtayTQ-8PzIy0O30M-SJaV5q8EAU9YQyXf6d9\""
   ]
  },
  {
   "cell_type": "code",
   "execution_count": 5,
   "metadata": {},
   "outputs": [
    {
     "data": {
      "text/plain": [
       "<ibm_watson.speech_to_text_v1_adapter.SpeechToTextV1Adapter at 0x1fbbaf48bb0>"
      ]
     },
     "execution_count": 5,
     "metadata": {},
     "output_type": "execute_result"
    }
   ],
   "source": [
    "#Creating a Speech To Text Adapter object the parameters are the endpoint and API key.\n",
    "authenticator = IAMAuthenticator(iam_apikey_s2t)\n",
    "s2t = SpeechToTextV1(authenticator=authenticator)\n",
    "s2t.set_service_url(url_s2t)\n",
    "s2t"
   ]
  },
  {
   "cell_type": "code",
   "execution_count": 10,
   "metadata": {},
   "outputs": [
    {
     "name": "stderr",
     "output_type": "stream",
     "text": [
      "--2021-03-31 16:04:51--  https://cf-courses-data.s3.us.cloud-object-storage.appdomain.cloud/IBMDeveloperSkillsNetwork-PY0101EN-SkillsNetwork/labs/Module%205/data/PolynomialRegressionandPipelines.mp3\n",
      "Resolving cf-courses-data.s3.us.cloud-object-storage.appdomain.cloud (cf-courses-data.s3.us.cloud-object-storage.appdomain.cloud)... 169.45.118.108\n",
      "Connecting to cf-courses-data.s3.us.cloud-object-storage.appdomain.cloud (cf-courses-data.s3.us.cloud-object-storage.appdomain.cloud)|169.45.118.108|:443... connected.\n",
      "HTTP request sent, awaiting response... 200 OK\n",
      "Length: 4234179 (4.0M) [audio/mpeg]\n",
      "Saving to: 'PolynomialRegressionandPipelines.mp3'\n",
      "\n",
      "     0K .......... .......... .......... .......... ..........  1% 32.0K 2m8s\n",
      "    50K .......... .......... .......... .......... ..........  2% 59.5K 97s\n",
      "   100K .......... .......... .......... .......... ..........  3% 29.5K 1m49s\n",
      "   150K .......... .......... .......... .......... ..........  4% 95.0K 91s\n",
      "   200K .......... .......... .......... .......... ..........  6% 80.7K 82s\n",
      "   250K .......... .......... .......... .......... ..........  7% 65.3K 77s\n",
      "   300K .......... .......... .......... .......... ..........  8%  116K 70s\n",
      "   350K .......... .......... .......... .......... ..........  9% 97.5K 65s\n",
      "   400K .......... .......... .......... .......... .......... 10% 85.0K 62s\n",
      "   450K .......... .......... .......... .......... .......... 12% 97.8K 59s\n",
      "   500K .......... .......... .......... .......... .......... 13%  114K 55s\n",
      "   550K .......... .......... .......... .......... .......... 14% 98.2K 53s\n",
      "   600K .......... .......... .......... .......... .......... 15% 97.8K 51s\n",
      "   650K .......... .......... .......... .......... .......... 16% 85.6K 50s\n",
      "   700K .......... .......... .......... .......... .......... 18% 71.9K 49s\n",
      "   750K .......... .......... .......... .......... .......... 19% 96.8K 47s\n",
      "   800K .......... .......... .......... .......... .......... 20% 59.3K 47s\n",
      "   850K .......... .......... .......... .......... .......... 21%  279K 44s\n",
      "   900K .......... .......... .......... .......... .......... 22%  117K 43s\n",
      "   950K .......... .......... .......... .......... .......... 24% 84.4K 42s\n",
      "  1000K .......... .......... .......... .......... .......... 25% 97.5K 41s\n",
      "  1050K .......... .......... .......... .......... .......... 26%  149K 39s\n",
      "  1100K .......... .......... .......... .......... .......... 27% 65.3K 39s\n",
      "  1150K .......... .......... .......... .......... .......... 29% 82.1K 38s\n",
      "  1200K .......... .......... .......... .......... .......... 30% 48.5K 38s\n",
      "  1250K .......... .......... .......... .......... .......... 31% 72.5K 38s\n",
      "  1300K .......... .......... .......... .......... .......... 32% 91.2K 37s\n",
      "  1350K .......... .......... .......... .......... .......... 33% 50.6K 37s\n",
      "  1400K .......... .......... .......... .......... .......... 35% 90.0K 36s\n",
      "  1450K .......... .......... .......... .......... .......... 36% 69.1K 35s\n",
      "  1500K .......... .......... .......... .......... .......... 37% 61.1K 35s\n",
      "  1550K .......... .......... .......... .......... .......... 38% 70.4K 34s\n",
      "  1600K .......... .......... .......... .......... .......... 39% 87.5K 33s\n",
      "  1650K .......... .......... .......... .......... .......... 41% 61.2K 33s\n",
      "  1700K .......... .......... .......... .......... .......... 42% 91.3K 32s\n",
      "  1750K .......... .......... .......... .......... .......... 43%  108K 31s\n",
      "  1800K .......... .......... .......... .......... .......... 44% 94.9K 30s\n",
      "  1850K .......... .......... .......... .......... .......... 45% 1.99M 29s\n",
      "  1900K .......... .......... .......... .......... .......... 47% 65.5K 28s\n",
      "  1950K .......... .......... .......... .......... .......... 48%  202K 27s\n",
      "  2000K .......... .......... .......... .......... .......... 49% 64.1K 27s\n",
      "  2050K .......... .......... .......... .......... .......... 50%  192K 26s\n",
      "  2100K .......... .......... .......... .......... .......... 51% 97.7K 25s\n",
      "  2150K .......... .......... .......... .......... .......... 53% 92.3K 24s\n",
      "  2200K .......... .......... .......... .......... .......... 54% 97.9K 24s\n",
      "  2250K .......... .......... .......... .......... .......... 55% 63.4K 23s\n",
      "  2300K .......... .......... .......... .......... .......... 56%  166K 22s\n",
      "  2350K .......... .......... .......... .......... .......... 58% 59.2K 22s\n",
      "  2400K .......... .......... .......... .......... .......... 59% 79.1K 21s\n",
      "  2450K .......... .......... .......... .......... .......... 60% 96.3K 20s\n",
      "  2500K .......... .......... .......... .......... .......... 61% 96.7K 20s\n",
      "  2550K .......... .......... .......... .......... .......... 62% 48.8K 19s\n",
      "  2600K .......... .......... .......... .......... .......... 64% 94.4K 19s\n",
      "  2650K .......... .......... .......... .......... .......... 65% 49.6K 18s\n",
      "  2700K .......... .......... .......... .......... .......... 66%  493K 17s\n",
      "  2750K .......... .......... .......... .......... .......... 67%  149K 17s\n",
      "  2800K .......... .......... .......... .......... .......... 68%  179K 16s\n",
      "  2850K .......... .......... .......... .......... .......... 70%  393K 15s\n",
      "  2900K .......... .......... .......... .......... .......... 71%  380K 14s\n",
      "  2950K .......... .......... .......... .......... .......... 72%  326K 13s\n",
      "  3000K .......... .......... .......... .......... .......... 73% 1.64M 13s\n",
      "  3050K .......... .......... .......... .......... .......... 74%  341K 12s\n",
      "  3100K .......... .......... .......... .......... .......... 76% 69.0K 11s\n",
      "  3150K .......... .......... .......... .......... .......... 77%  200K 11s\n",
      "  3200K .......... .......... .......... .......... .......... 78% 18.6M 10s\n",
      "  3250K .......... .......... .......... .......... .......... 79% 1.80M 9s\n",
      "  3300K .......... .......... .......... .......... .......... 81% 17.6M 9s\n",
      "  3350K .......... .......... .......... .......... .......... 82%  511K 8s\n",
      "  3400K .......... .......... .......... .......... .......... 83%  336K 7s\n",
      "  3450K .......... .......... .......... .......... .......... 84%  137K 7s\n",
      "  3500K .......... .......... .......... .......... .......... 85% 1.71M 6s\n",
      "  3550K .......... .......... .......... .......... .......... 87%  954K 6s\n",
      "  3600K .......... .......... .......... .......... .......... 88% 1.94M 5s\n",
      "  3650K .......... .......... .......... .......... .......... 89%  104K 4s\n",
      "  3700K .......... .......... .......... .......... .......... 90% 23.4M 4s\n",
      "  3750K .......... .......... .......... .......... .......... 91% 17.8M 3s\n",
      "  3800K .......... .......... .......... .......... .......... 93%  166K 3s\n",
      "  3850K .......... .......... .......... .......... .......... 94% 26.2M 2s\n",
      "  3900K .......... .......... .......... .......... .......... 95% 28.1M 2s\n",
      "  3950K .......... .......... .......... .......... .......... 96% 20.5M 1s\n",
      "  4000K .......... .......... .......... .......... .......... 97%  489K 1s\n",
      "  4050K .......... .......... .......... .......... .......... 99% 20.7M 0s\n",
      "  4100K .......... .......... .......... ....                 100%  488K=38s\n",
      "\n",
      "2021-03-31 16:05:32 (108 KB/s) - 'PolynomialRegressionandPipelines.mp3' saved [4234179/4234179]\n",
      "\n"
     ]
    }
   ],
   "source": [
    "#Downloading the Audio File\n",
    "!wget -O PolynomialRegressionandPipelines.mp3  https://cf-courses-data.s3.us.cloud-object-storage.appdomain.cloud/IBMDeveloperSkillsNetwork-PY0101EN-SkillsNetwork/labs/Module%205/data/PolynomialRegressionandPipelines.mp3\n",
    "\n"
   ]
  },
  {
   "cell_type": "code",
   "execution_count": 11,
   "metadata": {},
   "outputs": [],
   "source": [
    "filename='PolynomialRegressionandPipelines.mp3'"
   ]
  },
  {
   "cell_type": "markdown",
   "metadata": {},
   "source": [
    "We create the file object wav with the wav file using open ; we set the mode to \"rb\" , this is similar to read mode, but it ensures the file is in binary mode.We use the method recognize to return the recognized text. The parameter audio is the file object wav, the parameter content_type is the format of the audio file."
   ]
  },
  {
   "cell_type": "code",
   "execution_count": 12,
   "metadata": {},
   "outputs": [],
   "source": [
    "with open(filename, mode=\"rb\")  as wav:\n",
    "    response = s2t.recognize(audio=wav, content_type='audio/mp3')"
   ]
  },
  {
   "cell_type": "code",
   "execution_count": 14,
   "metadata": {},
   "outputs": [
    {
     "name": "stderr",
     "output_type": "stream",
     "text": [
      "<ipython-input-14-82687dd63d3f>:5: FutureWarning: pandas.io.json.json_normalize is deprecated, use pandas.json_normalize instead\n",
      "  json_normalize(response.result['results'],\"alternatives\")\n"
     ]
    },
    {
     "data": {
      "text/html": [
       "<div>\n",
       "<style scoped>\n",
       "    .dataframe tbody tr th:only-of-type {\n",
       "        vertical-align: middle;\n",
       "    }\n",
       "\n",
       "    .dataframe tbody tr th {\n",
       "        vertical-align: top;\n",
       "    }\n",
       "\n",
       "    .dataframe thead th {\n",
       "        text-align: right;\n",
       "    }\n",
       "</style>\n",
       "<table border=\"1\" class=\"dataframe\">\n",
       "  <thead>\n",
       "    <tr style=\"text-align: right;\">\n",
       "      <th></th>\n",
       "      <th>transcript</th>\n",
       "      <th>confidence</th>\n",
       "    </tr>\n",
       "  </thead>\n",
       "  <tbody>\n",
       "    <tr>\n",
       "      <th>0</th>\n",
       "      <td>in this video we will cover polynomial regress...</td>\n",
       "      <td>0.94</td>\n",
       "    </tr>\n",
       "    <tr>\n",
       "      <th>1</th>\n",
       "      <td>what do we do when a linear model is not the b...</td>\n",
       "      <td>0.90</td>\n",
       "    </tr>\n",
       "    <tr>\n",
       "      <th>2</th>\n",
       "      <td>polynomial regression is a special case of the...</td>\n",
       "      <td>0.95</td>\n",
       "    </tr>\n",
       "    <tr>\n",
       "      <th>3</th>\n",
       "      <td>the model can be cubic which means the predict...</td>\n",
       "      <td>0.95</td>\n",
       "    </tr>\n",
       "    <tr>\n",
       "      <th>4</th>\n",
       "      <td>there also exists higher order polynomial regr...</td>\n",
       "      <td>0.91</td>\n",
       "    </tr>\n",
       "    <tr>\n",
       "      <th>5</th>\n",
       "      <td>let's look at an example from our data we gene...</td>\n",
       "      <td>0.89</td>\n",
       "    </tr>\n",
       "    <tr>\n",
       "      <th>6</th>\n",
       "      <td>in python we do this by using the poly fit fun...</td>\n",
       "      <td>0.92</td>\n",
       "    </tr>\n",
       "    <tr>\n",
       "      <th>7</th>\n",
       "      <td>negative one point five five seven X. one cute...</td>\n",
       "      <td>0.90</td>\n",
       "    </tr>\n",
       "    <tr>\n",
       "      <th>8</th>\n",
       "      <td>consider the feature shown here applying the m...</td>\n",
       "      <td>0.90</td>\n",
       "    </tr>\n",
       "    <tr>\n",
       "      <th>9</th>\n",
       "      <td>pipeline sequentially perform a series of tran...</td>\n",
       "      <td>0.89</td>\n",
       "    </tr>\n",
       "    <tr>\n",
       "      <th>10</th>\n",
       "      <td>the method normalizes the data performs a poly...</td>\n",
       "      <td>0.89</td>\n",
       "    </tr>\n",
       "  </tbody>\n",
       "</table>\n",
       "</div>"
      ],
      "text/plain": [
       "                                           transcript  confidence\n",
       "0   in this video we will cover polynomial regress...        0.94\n",
       "1   what do we do when a linear model is not the b...        0.90\n",
       "2   polynomial regression is a special case of the...        0.95\n",
       "3   the model can be cubic which means the predict...        0.95\n",
       "4   there also exists higher order polynomial regr...        0.91\n",
       "5   let's look at an example from our data we gene...        0.89\n",
       "6   in python we do this by using the poly fit fun...        0.92\n",
       "7   negative one point five five seven X. one cute...        0.90\n",
       "8   consider the feature shown here applying the m...        0.90\n",
       "9   pipeline sequentially perform a series of tran...        0.89\n",
       "10  the method normalizes the data performs a poly...        0.89"
      ]
     },
     "execution_count": 14,
     "metadata": {},
     "output_type": "execute_result"
    }
   ],
   "source": [
    "response.result\n",
    "\n",
    "from pandas.io.json import json_normalize\n",
    "\n",
    "json_normalize(response.result['results'],\"alternatives\")"
   ]
  },
  {
   "cell_type": "code",
   "execution_count": 15,
   "metadata": {},
   "outputs": [
    {
     "data": {
      "text/plain": [
       "str"
      ]
     },
     "execution_count": 15,
     "metadata": {},
     "output_type": "execute_result"
    }
   ],
   "source": [
    "#Getting as text\n",
    "recognized_text=response.result['results'][0][\"alternatives\"][0][\"transcript\"]\n",
    "type(recognized_text)"
   ]
  },
  {
   "cell_type": "markdown",
   "metadata": {},
   "source": [
    "<h3>Language Translator</h3>"
   ]
  },
  {
   "cell_type": "code",
   "execution_count": 16,
   "metadata": {},
   "outputs": [],
   "source": [
    "#importing LanguageTranslatorV3 from ibm_watson.\n",
    "from ibm_watson import LanguageTranslatorV3"
   ]
  },
  {
   "cell_type": "code",
   "execution_count": 17,
   "metadata": {},
   "outputs": [],
   "source": [
    "#Getting the URL\n",
    "url_lt='https://api.us-south.language-translator.watson.cloud.ibm.com/instances/44c16aee-8e74-4692-b63c-ef83a134dfe9'"
   ]
  },
  {
   "cell_type": "code",
   "execution_count": 18,
   "metadata": {},
   "outputs": [],
   "source": [
    "#Getting the API-Key\n",
    "apikey_lt='_g9yuyD8xF_-l72G7uEe_qcCiSFaKMixuppHauL9aYAh'"
   ]
  },
  {
   "cell_type": "markdown",
   "metadata": {},
   "source": [
    "API requests require a version parameter that takes a date in the format version=YYYY-MM-DD. This lab describes the current version of Language Translator, 2018-05-01\n"
   ]
  },
  {
   "cell_type": "code",
   "execution_count": 19,
   "metadata": {},
   "outputs": [],
   "source": [
    "version_lt='2018-05-01'"
   ]
  },
  {
   "cell_type": "code",
   "execution_count": 20,
   "metadata": {},
   "outputs": [
    {
     "data": {
      "text/plain": [
       "<ibm_watson.language_translator_v3.LanguageTranslatorV3 at 0x1fbbde6b340>"
      ]
     },
     "execution_count": 20,
     "metadata": {},
     "output_type": "execute_result"
    }
   ],
   "source": [
    "#Creating Language Translator Object\n",
    "authenticator = IAMAuthenticator(apikey_lt)\n",
    "language_translator = LanguageTranslatorV3(version=version_lt,authenticator=authenticator)\n",
    "language_translator.set_service_url(url_lt)\n",
    "language_translator"
   ]
  },
  {
   "cell_type": "code",
   "execution_count": 21,
   "metadata": {},
   "outputs": [
    {
     "name": "stderr",
     "output_type": "stream",
     "text": [
      "<ipython-input-21-c8c7beb662fc>:4: FutureWarning: pandas.io.json.json_normalize is deprecated, use pandas.json_normalize instead\n",
      "  json_normalize(language_translator.list_identifiable_languages().get_result(), \"languages\")\n"
     ]
    },
    {
     "data": {
      "text/html": [
       "<div>\n",
       "<style scoped>\n",
       "    .dataframe tbody tr th:only-of-type {\n",
       "        vertical-align: middle;\n",
       "    }\n",
       "\n",
       "    .dataframe tbody tr th {\n",
       "        vertical-align: top;\n",
       "    }\n",
       "\n",
       "    .dataframe thead th {\n",
       "        text-align: right;\n",
       "    }\n",
       "</style>\n",
       "<table border=\"1\" class=\"dataframe\">\n",
       "  <thead>\n",
       "    <tr style=\"text-align: right;\">\n",
       "      <th></th>\n",
       "      <th>language</th>\n",
       "      <th>name</th>\n",
       "    </tr>\n",
       "  </thead>\n",
       "  <tbody>\n",
       "    <tr>\n",
       "      <th>0</th>\n",
       "      <td>af</td>\n",
       "      <td>Afrikaans</td>\n",
       "    </tr>\n",
       "    <tr>\n",
       "      <th>1</th>\n",
       "      <td>ar</td>\n",
       "      <td>Arabic</td>\n",
       "    </tr>\n",
       "    <tr>\n",
       "      <th>2</th>\n",
       "      <td>az</td>\n",
       "      <td>Azerbaijani</td>\n",
       "    </tr>\n",
       "    <tr>\n",
       "      <th>3</th>\n",
       "      <td>ba</td>\n",
       "      <td>Bashkir</td>\n",
       "    </tr>\n",
       "    <tr>\n",
       "      <th>4</th>\n",
       "      <td>be</td>\n",
       "      <td>Belarusian</td>\n",
       "    </tr>\n",
       "    <tr>\n",
       "      <th>...</th>\n",
       "      <td>...</td>\n",
       "      <td>...</td>\n",
       "    </tr>\n",
       "    <tr>\n",
       "      <th>71</th>\n",
       "      <td>uk</td>\n",
       "      <td>Ukrainian</td>\n",
       "    </tr>\n",
       "    <tr>\n",
       "      <th>72</th>\n",
       "      <td>ur</td>\n",
       "      <td>Urdu</td>\n",
       "    </tr>\n",
       "    <tr>\n",
       "      <th>73</th>\n",
       "      <td>vi</td>\n",
       "      <td>Vietnamese</td>\n",
       "    </tr>\n",
       "    <tr>\n",
       "      <th>74</th>\n",
       "      <td>zh</td>\n",
       "      <td>Simplified Chinese</td>\n",
       "    </tr>\n",
       "    <tr>\n",
       "      <th>75</th>\n",
       "      <td>zh-TW</td>\n",
       "      <td>Traditional Chinese</td>\n",
       "    </tr>\n",
       "  </tbody>\n",
       "</table>\n",
       "<p>76 rows × 2 columns</p>\n",
       "</div>"
      ],
      "text/plain": [
       "   language                 name\n",
       "0        af            Afrikaans\n",
       "1        ar               Arabic\n",
       "2        az          Azerbaijani\n",
       "3        ba              Bashkir\n",
       "4        be           Belarusian\n",
       "..      ...                  ...\n",
       "71       uk            Ukrainian\n",
       "72       ur                 Urdu\n",
       "73       vi           Vietnamese\n",
       "74       zh   Simplified Chinese\n",
       "75    zh-TW  Traditional Chinese\n",
       "\n",
       "[76 rows x 2 columns]"
      ]
     },
     "execution_count": 21,
     "metadata": {},
     "output_type": "execute_result"
    }
   ],
   "source": [
    "#Listing the languages for better view\n",
    "from pandas.io.json import json_normalize\n",
    "\n",
    "json_normalize(language_translator.list_identifiable_languages().get_result(), \"languages\")"
   ]
  },
  {
   "cell_type": "code",
   "execution_count": 30,
   "metadata": {},
   "outputs": [
    {
     "data": {
      "text/plain": [
       "<ibm_cloud_sdk_core.detailed_response.DetailedResponse at 0x1fbbd104e80>"
      ]
     },
     "execution_count": 30,
     "metadata": {},
     "output_type": "execute_result"
    }
   ],
   "source": [
    "#Using the method Translate for Translation as dictionary\n",
    "text = 'Hello, I am Resmin nice to meet you.'\n",
    "translation_response = language_translator.translate(\\\n",
    "    text=recognized_text, model_id='en-es')\n",
    "translation_response"
   ]
  },
  {
   "cell_type": "code",
   "execution_count": 31,
   "metadata": {},
   "outputs": [
    {
     "data": {
      "text/plain": [
       "{'translations': [{'translation': 'en este vídeo cubriremos la regresión polinómica y las tuberías '}],\n",
       " 'word_count': 10,\n",
       " 'character_count': 64}"
      ]
     },
     "execution_count": 31,
     "metadata": {},
     "output_type": "execute_result"
    }
   ],
   "source": [
    "translation=translation_response.get_result()\n",
    "translation"
   ]
  },
  {
   "cell_type": "code",
   "execution_count": 24,
   "metadata": {},
   "outputs": [
    {
     "data": {
      "text/plain": [
       "'en este vídeo cubriremos la regresión polinómica y las tuberías '"
      ]
     },
     "execution_count": 24,
     "metadata": {},
     "output_type": "execute_result"
    }
   ],
   "source": [
    "#Getting result as string\n",
    "spanish_translation =translation['translations'][0]['translation']\n",
    "spanish_translation "
   ]
  },
  {
   "cell_type": "code",
   "execution_count": 25,
   "metadata": {},
   "outputs": [
    {
     "data": {
      "text/plain": [
       "'in this video we will cover the polynomial regression and the pipes '"
      ]
     },
     "execution_count": 25,
     "metadata": {},
     "output_type": "execute_result"
    }
   ],
   "source": [
    "#Translating back to English\n",
    "translation_new = language_translator.translate(text=spanish_translation ,model_id='es-en').get_result()\n",
    "translation_eng=translation_new['translations'][0]['translation']\n",
    "translation_eng"
   ]
  },
  {
   "cell_type": "code",
   "execution_count": null,
   "metadata": {},
   "outputs": [],
   "source": []
  }
 ],
 "metadata": {
  "kernelspec": {
   "display_name": "Python 3",
   "language": "python",
   "name": "python3"
  },
  "language_info": {
   "codemirror_mode": {
    "name": "ipython",
    "version": 3
   },
   "file_extension": ".py",
   "mimetype": "text/x-python",
   "name": "python",
   "nbconvert_exporter": "python",
   "pygments_lexer": "ipython3",
   "version": "3.8.3"
  }
 },
 "nbformat": 4,
 "nbformat_minor": 4
}
